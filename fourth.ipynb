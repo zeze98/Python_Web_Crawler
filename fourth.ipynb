{
 "cells": [
  {
   "cell_type": "code",
   "execution_count": null,
   "metadata": {},
   "outputs": [],
   "source": [
    "# 셀레니움을 활용해 네이버 자동 로그인 및 메일 정보 가져오기\n",
    "\n",
    "# 자동화 테스트를 위해서 셀레니움 불러오기\n",
    "\n",
    "from selenium import webdriver\n",
    "from time import sleep\n",
    "from selenium.webdriver.common.by import By\n",
    "\n",
    "# 크롬 웹 드라이버의 경로 설정\n",
    "\n",
    "driver = webdriver.Chrome(\"C:\\chromedriver_win32\\chromedriver.exe\")\n",
    "\n",
    "# 크롬을 통해 네이버 로그인 화면에 접속\n",
    "driver.get('https://nid.naver.com/nidlogin.login?mode=form&url=https%3A%2F%2Fwww.naver.com&locale=ko_KR&svctype=1&disposable=')"
   ]
  },
  {
   "cell_type": "code",
   "execution_count": null,
   "metadata": {},
   "outputs": [],
   "source": [
    "# 아이디와 비밀번호를 입력합니다 (0.5초씩 기다리기)\n",
    "\n",
    "# 강의 코드\n",
    "'''\n",
    "sleep(0.5)\n",
    "driver.find_element_by_name('id').send_keys('아이디')\n",
    "sleep(0.5)\n",
    "driver.find_element_by_name('pw').send_keys('비밀번호')\n",
    "\n",
    "'WebDriver' object has no attribute 'find_element_by_name' 이런 오류가 뜬다\n",
    "드라이버 버전의 변화로 인한 문법의 변화인가 ? \n",
    "from selenium.webdriver.common.by import By\n",
    "위에 꺼를 임포트 하고 난뒤 밑의 코드로 변환하여 실행시키니 돌아갔다.\n",
    "'''\n",
    "'''\n",
    "sleep(0.5)\n",
    "driver.find_element(By.NAME,'id').send_keys('jwjw57482')\n",
    "sleep(0.5)\n",
    "driver.find_element(By.NAME,'pw').send_keys('(password)')\n",
    "문법으로는 이게 쳐지긴 했지만 밑에서 일어났던 자동입력 방지 문자에 걸렸다 \n",
    "댓글중에서 밑의 코드를 보았는데 \n",
    "밑으 코드로 실행시 바로 로그인이 되었다\n",
    "스크립트로 입력하는 방식이라고 한다\n",
    "'''\n",
    "\n",
    "driver.execute_script(\"document.getElementsByName('id')[0].value=\\'\" + 'jwjw57482' + \"\\'\")\n",
    "driver.execute_script(\"document.getElementsByName('pw')[0].value=\\'\" + '(password)' + \"\\'\")\n"
   ]
  },
  {
   "cell_type": "code",
   "execution_count": null,
   "metadata": {},
   "outputs": [],
   "source": [
    "# XPath르러 이용해 로그인을 시도\n",
    "# 강의 코드\n",
    "'''\n",
    "driver.find_element_by_xpath('//*[@id=\"log.login\"]').click()\n",
    "'WebDriver' object has no attribute 'find_element_by_xpath' 이런 오류가 뜬다.\n",
    "'''\n",
    "driver.find_element(By.XPATH,'//*[@id=\"log.login\"]').click()\n",
    "\n",
    "# 하고나니 자동입력 방지가 뜬다\n",
    "# 위에 입력하는 방법을 바꿔서 하니 로그인 성공\n"
   ]
  },
  {
   "cell_type": "code",
   "execution_count": null,
   "metadata": {},
   "outputs": [],
   "source": [
    "# 웹 페이지의 소스코드를 파싱 하기 위해 Beautiful Soup 라이브러리를 불러온다\n",
    "\n",
    "from bs4 import BeautifulSoup\n",
    "\n",
    "driver.get('https://mail.naver.com/v2/folders/0')\n",
    "html = driver.page_source\n",
    "soup = BeautifulSoup(html,'lxml')\n",
    "'''\n",
    "Couldn't find a tree builder with the features you requested: lxml. Do you need to install a parser library?\n",
    "pip instll lxml\n",
    "하니까 해결\n",
    "'''\n",
    "\n",
    "# 메일 제목을 하나씩 파싱\n",
    "title_list = soup.find_all('div', 'mail_title')\n",
    "real_title = soup.find_all('span', 'text')\n",
    "\n",
    "for title in title_list:\n",
    "    print(title.text)"
   ]
  }
 ],
 "metadata": {
  "kernelspec": {
   "display_name": "pybo",
   "language": "python",
   "name": "python3"
  },
  "language_info": {
   "codemirror_mode": {
    "name": "ipython",
    "version": 3
   },
   "file_extension": ".py",
   "mimetype": "text/x-python",
   "name": "python",
   "nbconvert_exporter": "python",
   "pygments_lexer": "ipython3",
   "version": "3.8.15"
  },
  "orig_nbformat": 4
 },
 "nbformat": 4,
 "nbformat_minor": 2
}
