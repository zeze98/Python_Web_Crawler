{
 "cells": [
  {
   "cell_type": "code",
   "execution_count": 3,
   "metadata": {},
   "outputs": [
    {
     "name": "stdout",
     "output_type": "stream",
     "text": [
      "C언어 기초 프로그래밍 강좌 20강 - 동적 메모리의 활용 (C Programming Tutorial For Beginners 2017 #20) \n",
      "C언어 기초 프로그래밍 강좌 19강 - 동적 메모리 (C Programming Tutorial For Beginners 2017 #19) \n",
      "C언어 기초 프로그래밍 강좌 18강 - 파일 입출력 (C Programming Tutorial For Beginners 2017 #18) \n",
      "C언어 기초 프로그래밍 강좌 17강 - 구조체의 활용 ② (C Programming Tutorial For Beginners 2017 #17) \n",
      "C언어 기초 프로그래밍 강좌 16강 - 구조체의 활용 ① (C Programming Tutorial For Beginners 2017 #16) \n"
     ]
    }
   ],
   "source": [
    "import requests\n",
    "from bs4 import BeautifulSoup\n",
    "\n",
    "# 특정 URL에 접속 하는 요청 객체 생성\n",
    "request = requests.get(\"http://www.dowellcomputer.com/main.jsp\")\n",
    "\n",
    "# 접속후 웹사이트의 소스코드 추출\n",
    "html = request.text\n",
    "\n",
    "# HTML 소스코드를 파이썬 객체로 변환\n",
    "soup = BeautifulSoup(html, 'html.parser')\n",
    "\n",
    "# <a> 태그 포함하는 요소 추출\n",
    "links = soup.select('td > a')\n",
    "\n",
    "# 모든 링크에 하나씩 접근\n",
    "for link in links:\n",
    "    # 링크가 href 속성을 가지고 있다면\n",
    "    if link.has_attr('href'):\n",
    "        # href 속성의 값으로는 study라는 문자열이 포함되어 있다면\n",
    "        if link.get('href').find('study') != -1:\n",
    "            print(link.text)\n",
    "        "
   ]
  },
  {
   "cell_type": "code",
   "execution_count": null,
   "metadata": {},
   "outputs": [],
   "source": []
  }
 ],
 "metadata": {
  "kernelspec": {
   "display_name": "pybo",
   "language": "python",
   "name": "python3"
  },
  "language_info": {
   "codemirror_mode": {
    "name": "ipython",
    "version": 3
   },
   "file_extension": ".py",
   "mimetype": "text/x-python",
   "name": "python",
   "nbconvert_exporter": "python",
   "pygments_lexer": "ipython3",
   "version": "3.10.11"
  },
  "orig_nbformat": 4
 },
 "nbformat": 4,
 "nbformat_minor": 2
}
