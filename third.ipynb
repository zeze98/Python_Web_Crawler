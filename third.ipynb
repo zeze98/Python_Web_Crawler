{
 "cells": [
  {
   "cell_type": "code",
   "execution_count": 8,
   "metadata": {},
   "outputs": [
    {
     "name": "stdout",
     "output_type": "stream",
     "text": [
      "<Response [200]>\n"
     ]
    }
   ],
   "source": [
    "# 까닥잘못하면 불법이 된다. \n",
    "\n",
    "import requests\n",
    "from bs4 import BeautifulSoup as bs\n",
    "\n",
    "Member_Data = {\n",
    "    'memberID' : 'jw57482',\n",
    "    'memberPassword' : 'wodn0714'\n",
    "}\n",
    "\n",
    "with requests.Session() as s:\n",
    "    # 로그인 페이지로의 POST 요청 객체를 생성.\n",
    "    request = s.post('http://www.dowellcomputer.com/member/memberLoginAction.jsp', data=Member_Data)\n",
    "    \n",
    "print(request)"
   ]
  },
  {
   "cell_type": "code",
   "execution_count": 9,
   "metadata": {},
   "outputs": [
    {
     "name": "stdout",
     "output_type": "stream",
     "text": [
      "jw@nav.com\n"
     ]
    }
   ],
   "source": [
    "request = s.get('http://www.dowellcomputer.com/member/memberUpdateForm.jsp?ID=jw57482')\n",
    "soup = bs(request.text, 'html.parser')\n",
    "\n",
    "result = soup.findAll('input', {\"name\": \"memberEmail\"})\n",
    "print(result[0].get('value'))\n"
   ]
  }
 ],
 "metadata": {
  "kernelspec": {
   "display_name": "pybo",
   "language": "python",
   "name": "python3"
  },
  "language_info": {
   "codemirror_mode": {
    "name": "ipython",
    "version": 3
   },
   "file_extension": ".py",
   "mimetype": "text/x-python",
   "name": "python",
   "nbconvert_exporter": "python",
   "pygments_lexer": "ipython3",
   "version": "3.10.11"
  },
  "orig_nbformat": 4
 },
 "nbformat": 4,
 "nbformat_minor": 2
}
