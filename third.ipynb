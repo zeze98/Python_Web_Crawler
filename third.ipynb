{
 "cells": [
  {
   "cell_type": "code",
   "execution_count": 1,
   "metadata": {},
   "outputs": [
    {
     "name": "stdout",
     "output_type": "stream",
     "text": [
      "\n",
      "\n",
      "<!-- 로그인 페이지입니다. -->\n",
      "<!DOCTYPE html>\n",
      " \n",
      "<html>\n",
      "\t<head>\n",
      "\t\t<meta http-equiv=\"Content-Type\" content=\"text/html; charset=UTF-8\">\n",
      "\t\t<link rel=\"stylesheet\" type=\"text/css\" href=\"../css/viewStyle.css\">\n",
      "\t\t<title>컴잘알</title>\n",
      "\t</head>\n",
      "\t<body> \n",
      "\t\t<div id=\"mainBox\">\n",
      "\t\t\t<div id=\"titleBox\">\n",
      "\t\t\t\t<a href=\"../main.jsp\">컴잘알</a>\n",
      "\t\t\t</div>\n",
      "\t\t\t<div id=\"navigationBox\">\n",
      "\t\t\t\t\n",
      "\t\t\t\t\t\t<a href=\"../member/memberLoginForm.jsp\" class=\"basicButton\">로그인</a>\n",
      "\t\t\t\t\t\t<a href=\"../member/memberJoinForm.jsp\" class=\"basicButton\">회원가입</a>\n",
      "\t\t\t\t\n",
      "\t\t\t\t\t<a href=\"../study/study.jsp\" class=\"basicButton\">공부방</a>\n",
      "\t\t\t\t\t<a href=\"../talk/talkListForm.jsp\" class=\"basicButton\">대화방</a>\n",
      "\t\t\t\t\t<a href=\"../notice/noticeListForm.jsp\" class=\"basicButton\">공지사항</a>\n",
      "\t\t\t</div>\n",
      "\t\t\t<hr>\n",
      "\t\t    <form action=\"./memberLoginAction.jsp\" method=\"post\"> \n",
      "\t    \t\t<div id=\"viewBox\">\n",
      "\t    \t\t\t<table>\n",
      "\t\t\t        \t<tr>\n",
      "\t\t\t        \t\t<td colspan=\"2\" class=\"head\">\n",
      "\t\t\t        \t\t\t로그인\n",
      "\t\t\t        \t\t</td>\n",
      "\t\t\t        \t</tr>\t\n",
      "\t    \t\t\t\t<tr>\n",
      "\t    \t\t\t\t\t<td class=\"middle\">\n",
      "\t    \t\t\t\t\t\t아이디\n",
      "\t    \t\t\t\t\t</td>\n",
      "\t    \t\t\t\t\t<td>\n",
      "\t    \t\t\t\t\t\t<input type=\"text\" name=\"memberID\" placeholder=\"아이디를 입력하세요.\">\n",
      "\t    \t\t\t\t\t</td>\n",
      "\t    \t\t\t\t</tr>\n",
      "\t    \t\t\t\t<tr>\n",
      "\t    \t\t\t\t\t<td class=\"middle\">\n",
      "\t    \t\t\t\t\t\t비밀번호\n",
      "\t    \t\t\t\t\t</td>\n",
      "\t    \t\t\t\t\t<td>\n",
      "\t    \t\t\t\t\t\t<input type=\"password\" name=\"memberPassword\" placeholder=\"비밀번호를 입력하세요.\">\n",
      "\t    \t\t\t\t\t</td>\n",
      "\t    \t\t\t\t</tr>\t    \t\t\t\t\n",
      "\t    \t\t\t</table>\n",
      "\t            </div>\n",
      "\t            <div id=\"blackBox\">\n",
      "\t\t\t        <input type=\"submit\" value=\"로그인\">\n",
      "\t\t\t        <input type=\"button\" value=\"회원가입\" onClick=\"location.href='./memberJoinForm.jsp'\">\n",
      "\t\t\t        <input type=\"button\" value=\"메인 화면\" onClick=\"location.href='../main.jsp'\">\n",
      "\t\t        </div>\n",
      "\t\t    </form>\n",
      "\t    </div>\n",
      "    </body> \n",
      "</html>\n"
     ]
    }
   ],
   "source": [
    "# 까닥잘못하면 불법이 된다. \n",
    "\n",
    "import requests\n",
    "from bs4 import BeautifulSoup as bs\n",
    "\n",
    "Member_Data = {\n",
    "    'memberID' : 'jw57482',\n",
    "    'memberPassword' : 'wodn0714'\n",
    "}\n",
    "\n",
    "with requests.Session() as s:\n",
    "    # 로그인 페이지로의 POST 요청 객체를 생성.\n",
    "    request = s.post('http://www.dowellcomputer.com/member/memberLoginForm.jsp', data=Member_Data)\n",
    "    \n",
    "print(request.text)"
   ]
  },
  {
   "cell_type": "code",
   "execution_count": 2,
   "metadata": {},
   "outputs": [
    {
     "ename": "IndexError",
     "evalue": "list index out of range",
     "output_type": "error",
     "traceback": [
      "\u001b[1;31m---------------------------------------------------------------------------\u001b[0m",
      "\u001b[1;31mIndexError\u001b[0m                                Traceback (most recent call last)",
      "\u001b[1;32mc:\\Users\\jwjw5\\Desktop\\Coding\\python\\Python_Web_Crawler-main\\third.ipynb Cell 2\u001b[0m line \u001b[0;36m5\n\u001b[0;32m      <a href='vscode-notebook-cell:/c%3A/Users/jwjw5/Desktop/Coding/python/Python_Web_Crawler-main/third.ipynb#W1sZmlsZQ%3D%3D?line=1'>2</a>\u001b[0m soup \u001b[39m=\u001b[39m bs(request\u001b[39m.\u001b[39mtext, \u001b[39m'\u001b[39m\u001b[39mhtml.parser\u001b[39m\u001b[39m'\u001b[39m)\n\u001b[0;32m      <a href='vscode-notebook-cell:/c%3A/Users/jwjw5/Desktop/Coding/python/Python_Web_Crawler-main/third.ipynb#W1sZmlsZQ%3D%3D?line=3'>4</a>\u001b[0m result \u001b[39m=\u001b[39m soup\u001b[39m.\u001b[39mfindAll(\u001b[39m'\u001b[39m\u001b[39minput\u001b[39m\u001b[39m'\u001b[39m, {\u001b[39m\"\u001b[39m\u001b[39mname\u001b[39m\u001b[39m\"\u001b[39m: \u001b[39m\"\u001b[39m\u001b[39mmemberEmail\u001b[39m\u001b[39m\"\u001b[39m})\n\u001b[1;32m----> <a href='vscode-notebook-cell:/c%3A/Users/jwjw5/Desktop/Coding/python/Python_Web_Crawler-main/third.ipynb#W1sZmlsZQ%3D%3D?line=4'>5</a>\u001b[0m \u001b[39mprint\u001b[39m(result[\u001b[39m0\u001b[39;49m]\u001b[39m.\u001b[39mget(\u001b[39m'\u001b[39m\u001b[39mvalue\u001b[39m\u001b[39m'\u001b[39m))\n",
      "\u001b[1;31mIndexError\u001b[0m: list index out of range"
     ]
    }
   ],
   "source": [
    "request = s.get('http://www.dowellcomputer.com/member/memberUpdateForm.jsp?ID=jw57482')\n",
    "soup = bs(request.text, 'html.parser')\n",
    "\n",
    "result = soup.findAll('input', {\"name\": \"memberEmail\"})\n",
    "print(result[0].get('value'))\n"
   ]
  }
 ],
 "metadata": {
  "kernelspec": {
   "display_name": "pybo",
   "language": "python",
   "name": "python3"
  },
  "language_info": {
   "codemirror_mode": {
    "name": "ipython",
    "version": 3
   },
   "file_extension": ".py",
   "mimetype": "text/x-python",
   "name": "python",
   "nbconvert_exporter": "python",
   "pygments_lexer": "ipython3",
   "version": "3.10.11"
  },
  "orig_nbformat": 4
 },
 "nbformat": 4,
 "nbformat_minor": 2
}
